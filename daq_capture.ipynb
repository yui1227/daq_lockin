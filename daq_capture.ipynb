{
 "cells": [
  {
   "cell_type": "code",
   "execution_count": null,
   "id": "a7ad7e4a",
   "metadata": {},
   "outputs": [
    {
     "name": "stdout",
     "output_type": "stream",
     "text": [
      "準備從通道 'Dev1/ai0' 採集數據...\n",
      "採樣率: 1000 Hz\n",
      "量測時間: 5.0 秒\n",
      "總共採集樣本數: 5000 個\n"
     ]
    }
   ],
   "source": [
    "# gemini generated\n",
    "import nidaqmx\n",
    "from nidaqmx.constants import AcquisitionType\n",
    "import numpy as np\n",
    "import time\n",
    "\n",
    "# --- 設定量測參數 ---\n",
    "# 您的 NI DAQ 設備與類比輸入通道名稱。\n",
    "# 請根據您的實際設備和通道名稱進行修改。例如：\"Dev1/ai0\" 或 \"cDAQ1Mod1/ai0\"\n",
    "NI_DAQ_CHANNEL = \"Dev1/ai0\" \n",
    "SAMPLE_RATE = 1000             # 採樣率 (Hz)\n",
    "MEASUREMENT_DURATION = 5.0     # 量測持續時間 (秒)\n",
    "\n",
    "# 計算需要採集的總樣本數\n",
    "number_of_samples = int(SAMPLE_RATE * MEASUREMENT_DURATION)\n",
    "\n",
    "print(f\"準備從通道 '{NI_DAQ_CHANNEL}' 採集數據...\")\n",
    "print(f\"採樣率: {SAMPLE_RATE} Hz\")\n",
    "print(f\"量測時間: {MEASUREMENT_DURATION} 秒\")\n",
    "print(f\"總共採集樣本數: {number_of_samples} 個\")"
   ]
  },
  {
   "cell_type": "code",
   "execution_count": null,
   "id": "4320e763",
   "metadata": {},
   "outputs": [],
   "source": [
    "# --- 創建並執行 NI DAQ Task ---\n",
    "try:\n",
    "    # 'with' 語句確保 Task 在程式結束或發生錯誤時會被自動關閉\n",
    "    with nidaqmx.Task() as task:\n",
    "        # 添加一個類比輸入電壓通道\n",
    "        task.ai_channels.add_ai_voltage_chan(NI_DAQ_CHANNEL)\n",
    "        \n",
    "        # 設定採樣時脈與採集模式。\n",
    "        # AcquisitionType.FINITE 模式會讓程式採集指定數量的樣本後停止。\n",
    "        task.timing.cfg_samp_clk_timing(\n",
    "            rate=SAMPLE_RATE, \n",
    "            sample_mode=AcquisitionType.FINITE,\n",
    "            samps_per_chan=number_of_samples\n",
    "        )\n",
    "        \n",
    "        # 啟動 Task\n",
    "        task.start()\n",
    "        \n",
    "        # 等待數據採集完成\n",
    "        print(\"\\n開始量測... 請稍候...\")\n",
    "        task.wait_until_done(timeout=MEASUREMENT_DURATION + 2.0) # 給予額外的時間裕度\n",
    "        \n",
    "        # 讀取所有採集到的數據\n",
    "        acquired_data = task.read(number_of_samples_per_channel=number_of_samples)\n",
    "        \n",
    "        # 將數據轉換為 numpy 陣列，方便後續處理\n",
    "        data_array = np.array(acquired_data)\n",
    "        \n",
    "        print(\"\\n量測完成！\\n\")\n",
    "        \n",
    "        # --- 數據分析與結果列印 ---\n",
    "        if data_array.size > 0:\n",
    "            print(\"--- 量測數據概要 ---\")\n",
    "            print(f\"總共獲得 {data_array.size} 個數據點。\")\n",
    "            print(f\"數據平均值: {np.mean(data_array):.4f} V\")\n",
    "            print(f\"數據最小值: {np.min(data_array):.4f} V\")\n",
    "            print(f\"數據最大值: {np.max(data_array):.4f} V\")\n",
    "            \n",
    "            # 選擇性地列印前10個數據點\n",
    "            print(\"\\n前10個數據點:\")\n",
    "            print(data_array[:10])\n",
    "        else:\n",
    "            print(\"沒有採集到任何數據。請檢查您的連線和設定。\")\n",
    "            \n",
    "except nidaqmx.DaqError as e:\n",
    "    print(f\"\\nNI DAQ 錯誤: {e}\")\n",
    "    print(\"請檢查您的 NI DAQ 設備連線、通道名稱以及配置。\")\n",
    "except Exception as e:\n",
    "    print(f\"\\n發生了其他錯誤: {e}\")"
   ]
  }
 ],
 "metadata": {
  "kernelspec": {
   "display_name": "daq-lockin",
   "language": "python",
   "name": "python3"
  },
  "language_info": {
   "name": "python",
   "version": "3.12.9"
  }
 },
 "nbformat": 4,
 "nbformat_minor": 5
}
